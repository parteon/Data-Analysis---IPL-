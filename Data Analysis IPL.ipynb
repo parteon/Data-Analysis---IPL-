{
 "cells": [
  {
   "cell_type": "code",
   "execution_count": 1,
   "id": "5cc84165",
   "metadata": {},
   "outputs": [],
   "source": [
    "import pandas as pd\n",
    "import numpy as np\n",
    "import os\n",
    "import matplotlib.pyplot as plt"
   ]
  },
  {
   "cell_type": "code",
   "execution_count": 2,
   "id": "ca7b3a41",
   "metadata": {},
   "outputs": [],
   "source": [
    "os.chdir('C:\\\\Users\\\\as124\\\\Downloads')"
   ]
  },
  {
   "cell_type": "code",
   "execution_count": 3,
   "id": "35110363",
   "metadata": {},
   "outputs": [],
   "source": [
    "df_m = pd.read_csv('IPL MATCHES 2008-2020.CSV')\n",
    "df_b = pd.read_csv('IPL Ball-by-Ball 2008-2020.csv')"
   ]
  },
  {
   "cell_type": "code",
   "execution_count": 4,
   "id": "af97ac3c",
   "metadata": {},
   "outputs": [
    {
     "data": {
      "text/html": [
       "<div>\n",
       "<style scoped>\n",
       "    .dataframe tbody tr th:only-of-type {\n",
       "        vertical-align: middle;\n",
       "    }\n",
       "\n",
       "    .dataframe tbody tr th {\n",
       "        vertical-align: top;\n",
       "    }\n",
       "\n",
       "    .dataframe thead th {\n",
       "        text-align: right;\n",
       "    }\n",
       "</style>\n",
       "<table border=\"1\" class=\"dataframe\">\n",
       "  <thead>\n",
       "    <tr style=\"text-align: right;\">\n",
       "      <th></th>\n",
       "      <th>id</th>\n",
       "      <th>city</th>\n",
       "      <th>date</th>\n",
       "      <th>player_of_match</th>\n",
       "      <th>venue</th>\n",
       "      <th>neutral_venue</th>\n",
       "      <th>team1</th>\n",
       "      <th>team2</th>\n",
       "      <th>toss_winner</th>\n",
       "      <th>toss_decision</th>\n",
       "      <th>winner</th>\n",
       "      <th>result</th>\n",
       "      <th>result_margin</th>\n",
       "      <th>eliminator</th>\n",
       "      <th>method</th>\n",
       "      <th>umpire1</th>\n",
       "      <th>umpire2</th>\n",
       "    </tr>\n",
       "  </thead>\n",
       "  <tbody>\n",
       "    <tr>\n",
       "      <th>0</th>\n",
       "      <td>335982</td>\n",
       "      <td>Bangalore</td>\n",
       "      <td>2008-04-18</td>\n",
       "      <td>BB McCullum</td>\n",
       "      <td>M Chinnaswamy Stadium</td>\n",
       "      <td>0</td>\n",
       "      <td>Royal Challengers Bangalore</td>\n",
       "      <td>Kolkata Knight Riders</td>\n",
       "      <td>Royal Challengers Bangalore</td>\n",
       "      <td>field</td>\n",
       "      <td>Kolkata Knight Riders</td>\n",
       "      <td>runs</td>\n",
       "      <td>140.0</td>\n",
       "      <td>N</td>\n",
       "      <td>NaN</td>\n",
       "      <td>Asad Rauf</td>\n",
       "      <td>RE Koertzen</td>\n",
       "    </tr>\n",
       "    <tr>\n",
       "      <th>1</th>\n",
       "      <td>335983</td>\n",
       "      <td>Chandigarh</td>\n",
       "      <td>2008-04-19</td>\n",
       "      <td>MEK Hussey</td>\n",
       "      <td>Punjab Cricket Association Stadium, Mohali</td>\n",
       "      <td>0</td>\n",
       "      <td>Kings XI Punjab</td>\n",
       "      <td>Chennai Super Kings</td>\n",
       "      <td>Chennai Super Kings</td>\n",
       "      <td>bat</td>\n",
       "      <td>Chennai Super Kings</td>\n",
       "      <td>runs</td>\n",
       "      <td>33.0</td>\n",
       "      <td>N</td>\n",
       "      <td>NaN</td>\n",
       "      <td>MR Benson</td>\n",
       "      <td>SL Shastri</td>\n",
       "    </tr>\n",
       "    <tr>\n",
       "      <th>2</th>\n",
       "      <td>335984</td>\n",
       "      <td>Delhi</td>\n",
       "      <td>2008-04-19</td>\n",
       "      <td>MF Maharoof</td>\n",
       "      <td>Feroz Shah Kotla</td>\n",
       "      <td>0</td>\n",
       "      <td>Delhi Daredevils</td>\n",
       "      <td>Rajasthan Royals</td>\n",
       "      <td>Rajasthan Royals</td>\n",
       "      <td>bat</td>\n",
       "      <td>Delhi Daredevils</td>\n",
       "      <td>wickets</td>\n",
       "      <td>9.0</td>\n",
       "      <td>N</td>\n",
       "      <td>NaN</td>\n",
       "      <td>Aleem Dar</td>\n",
       "      <td>GA Pratapkumar</td>\n",
       "    </tr>\n",
       "    <tr>\n",
       "      <th>3</th>\n",
       "      <td>335985</td>\n",
       "      <td>Mumbai</td>\n",
       "      <td>2008-04-20</td>\n",
       "      <td>MV Boucher</td>\n",
       "      <td>Wankhede Stadium</td>\n",
       "      <td>0</td>\n",
       "      <td>Mumbai Indians</td>\n",
       "      <td>Royal Challengers Bangalore</td>\n",
       "      <td>Mumbai Indians</td>\n",
       "      <td>bat</td>\n",
       "      <td>Royal Challengers Bangalore</td>\n",
       "      <td>wickets</td>\n",
       "      <td>5.0</td>\n",
       "      <td>N</td>\n",
       "      <td>NaN</td>\n",
       "      <td>SJ Davis</td>\n",
       "      <td>DJ Harper</td>\n",
       "    </tr>\n",
       "    <tr>\n",
       "      <th>4</th>\n",
       "      <td>335986</td>\n",
       "      <td>Kolkata</td>\n",
       "      <td>2008-04-20</td>\n",
       "      <td>DJ Hussey</td>\n",
       "      <td>Eden Gardens</td>\n",
       "      <td>0</td>\n",
       "      <td>Kolkata Knight Riders</td>\n",
       "      <td>Deccan Chargers</td>\n",
       "      <td>Deccan Chargers</td>\n",
       "      <td>bat</td>\n",
       "      <td>Kolkata Knight Riders</td>\n",
       "      <td>wickets</td>\n",
       "      <td>5.0</td>\n",
       "      <td>N</td>\n",
       "      <td>NaN</td>\n",
       "      <td>BF Bowden</td>\n",
       "      <td>K Hariharan</td>\n",
       "    </tr>\n",
       "  </tbody>\n",
       "</table>\n",
       "</div>"
      ],
      "text/plain": [
       "       id        city        date player_of_match  \\\n",
       "0  335982   Bangalore  2008-04-18     BB McCullum   \n",
       "1  335983  Chandigarh  2008-04-19      MEK Hussey   \n",
       "2  335984       Delhi  2008-04-19     MF Maharoof   \n",
       "3  335985      Mumbai  2008-04-20      MV Boucher   \n",
       "4  335986     Kolkata  2008-04-20       DJ Hussey   \n",
       "\n",
       "                                        venue  neutral_venue  \\\n",
       "0                       M Chinnaswamy Stadium              0   \n",
       "1  Punjab Cricket Association Stadium, Mohali              0   \n",
       "2                            Feroz Shah Kotla              0   \n",
       "3                            Wankhede Stadium              0   \n",
       "4                                Eden Gardens              0   \n",
       "\n",
       "                         team1                        team2  \\\n",
       "0  Royal Challengers Bangalore        Kolkata Knight Riders   \n",
       "1              Kings XI Punjab          Chennai Super Kings   \n",
       "2             Delhi Daredevils             Rajasthan Royals   \n",
       "3               Mumbai Indians  Royal Challengers Bangalore   \n",
       "4        Kolkata Knight Riders              Deccan Chargers   \n",
       "\n",
       "                   toss_winner toss_decision                       winner  \\\n",
       "0  Royal Challengers Bangalore         field        Kolkata Knight Riders   \n",
       "1          Chennai Super Kings           bat          Chennai Super Kings   \n",
       "2             Rajasthan Royals           bat             Delhi Daredevils   \n",
       "3               Mumbai Indians           bat  Royal Challengers Bangalore   \n",
       "4              Deccan Chargers           bat        Kolkata Knight Riders   \n",
       "\n",
       "    result  result_margin eliminator method    umpire1         umpire2  \n",
       "0     runs          140.0          N    NaN  Asad Rauf     RE Koertzen  \n",
       "1     runs           33.0          N    NaN  MR Benson      SL Shastri  \n",
       "2  wickets            9.0          N    NaN  Aleem Dar  GA Pratapkumar  \n",
       "3  wickets            5.0          N    NaN   SJ Davis       DJ Harper  \n",
       "4  wickets            5.0          N    NaN  BF Bowden     K Hariharan  "
      ]
     },
     "execution_count": 4,
     "metadata": {},
     "output_type": "execute_result"
    }
   ],
   "source": [
    "df_m.head()"
   ]
  },
  {
   "cell_type": "code",
   "execution_count": 5,
   "id": "c4f6af17",
   "metadata": {},
   "outputs": [
    {
     "name": "stdout",
     "output_type": "stream",
     "text": [
      "<class 'pandas.core.frame.DataFrame'>\n",
      "RangeIndex: 816 entries, 0 to 815\n",
      "Data columns (total 17 columns):\n",
      " #   Column           Non-Null Count  Dtype  \n",
      "---  ------           --------------  -----  \n",
      " 0   id               816 non-null    int64  \n",
      " 1   city             803 non-null    object \n",
      " 2   date             816 non-null    object \n",
      " 3   player_of_match  812 non-null    object \n",
      " 4   venue            816 non-null    object \n",
      " 5   neutral_venue    816 non-null    int64  \n",
      " 6   team1            816 non-null    object \n",
      " 7   team2            816 non-null    object \n",
      " 8   toss_winner      816 non-null    object \n",
      " 9   toss_decision    816 non-null    object \n",
      " 10  winner           812 non-null    object \n",
      " 11  result           812 non-null    object \n",
      " 12  result_margin    799 non-null    float64\n",
      " 13  eliminator       812 non-null    object \n",
      " 14  method           19 non-null     object \n",
      " 15  umpire1          816 non-null    object \n",
      " 16  umpire2          816 non-null    object \n",
      "dtypes: float64(1), int64(2), object(14)\n",
      "memory usage: 108.5+ KB\n"
     ]
    }
   ],
   "source": [
    "df_m.info()"
   ]
  },
  {
   "cell_type": "code",
   "execution_count": 6,
   "id": "25e7c5e8",
   "metadata": {},
   "outputs": [
    {
     "data": {
      "text/html": [
       "<div>\n",
       "<style scoped>\n",
       "    .dataframe tbody tr th:only-of-type {\n",
       "        vertical-align: middle;\n",
       "    }\n",
       "\n",
       "    .dataframe tbody tr th {\n",
       "        vertical-align: top;\n",
       "    }\n",
       "\n",
       "    .dataframe thead th {\n",
       "        text-align: right;\n",
       "    }\n",
       "</style>\n",
       "<table border=\"1\" class=\"dataframe\">\n",
       "  <thead>\n",
       "    <tr style=\"text-align: right;\">\n",
       "      <th></th>\n",
       "      <th>id</th>\n",
       "      <th>inning</th>\n",
       "      <th>over</th>\n",
       "      <th>ball</th>\n",
       "      <th>batsman</th>\n",
       "      <th>non_striker</th>\n",
       "      <th>bowler</th>\n",
       "      <th>batsman_runs</th>\n",
       "      <th>extra_runs</th>\n",
       "      <th>total_runs</th>\n",
       "      <th>non_boundary</th>\n",
       "      <th>is_wicket</th>\n",
       "      <th>dismissal_kind</th>\n",
       "      <th>player_dismissed</th>\n",
       "      <th>fielder</th>\n",
       "      <th>extras_type</th>\n",
       "      <th>batting_team</th>\n",
       "      <th>bowling_team</th>\n",
       "    </tr>\n",
       "  </thead>\n",
       "  <tbody>\n",
       "    <tr>\n",
       "      <th>0</th>\n",
       "      <td>335982</td>\n",
       "      <td>1</td>\n",
       "      <td>6</td>\n",
       "      <td>5</td>\n",
       "      <td>RT Ponting</td>\n",
       "      <td>BB McCullum</td>\n",
       "      <td>AA Noffke</td>\n",
       "      <td>1</td>\n",
       "      <td>0</td>\n",
       "      <td>1</td>\n",
       "      <td>0</td>\n",
       "      <td>0</td>\n",
       "      <td>NaN</td>\n",
       "      <td>NaN</td>\n",
       "      <td>NaN</td>\n",
       "      <td>NaN</td>\n",
       "      <td>Kolkata Knight Riders</td>\n",
       "      <td>Royal Challengers Bangalore</td>\n",
       "    </tr>\n",
       "    <tr>\n",
       "      <th>1</th>\n",
       "      <td>335982</td>\n",
       "      <td>1</td>\n",
       "      <td>6</td>\n",
       "      <td>6</td>\n",
       "      <td>BB McCullum</td>\n",
       "      <td>RT Ponting</td>\n",
       "      <td>AA Noffke</td>\n",
       "      <td>1</td>\n",
       "      <td>0</td>\n",
       "      <td>1</td>\n",
       "      <td>0</td>\n",
       "      <td>0</td>\n",
       "      <td>NaN</td>\n",
       "      <td>NaN</td>\n",
       "      <td>NaN</td>\n",
       "      <td>NaN</td>\n",
       "      <td>Kolkata Knight Riders</td>\n",
       "      <td>Royal Challengers Bangalore</td>\n",
       "    </tr>\n",
       "    <tr>\n",
       "      <th>2</th>\n",
       "      <td>335982</td>\n",
       "      <td>1</td>\n",
       "      <td>7</td>\n",
       "      <td>1</td>\n",
       "      <td>BB McCullum</td>\n",
       "      <td>RT Ponting</td>\n",
       "      <td>Z Khan</td>\n",
       "      <td>0</td>\n",
       "      <td>0</td>\n",
       "      <td>0</td>\n",
       "      <td>0</td>\n",
       "      <td>0</td>\n",
       "      <td>NaN</td>\n",
       "      <td>NaN</td>\n",
       "      <td>NaN</td>\n",
       "      <td>NaN</td>\n",
       "      <td>Kolkata Knight Riders</td>\n",
       "      <td>Royal Challengers Bangalore</td>\n",
       "    </tr>\n",
       "    <tr>\n",
       "      <th>3</th>\n",
       "      <td>335982</td>\n",
       "      <td>1</td>\n",
       "      <td>7</td>\n",
       "      <td>2</td>\n",
       "      <td>BB McCullum</td>\n",
       "      <td>RT Ponting</td>\n",
       "      <td>Z Khan</td>\n",
       "      <td>1</td>\n",
       "      <td>0</td>\n",
       "      <td>1</td>\n",
       "      <td>0</td>\n",
       "      <td>0</td>\n",
       "      <td>NaN</td>\n",
       "      <td>NaN</td>\n",
       "      <td>NaN</td>\n",
       "      <td>NaN</td>\n",
       "      <td>Kolkata Knight Riders</td>\n",
       "      <td>Royal Challengers Bangalore</td>\n",
       "    </tr>\n",
       "    <tr>\n",
       "      <th>4</th>\n",
       "      <td>335982</td>\n",
       "      <td>1</td>\n",
       "      <td>7</td>\n",
       "      <td>3</td>\n",
       "      <td>RT Ponting</td>\n",
       "      <td>BB McCullum</td>\n",
       "      <td>Z Khan</td>\n",
       "      <td>1</td>\n",
       "      <td>0</td>\n",
       "      <td>1</td>\n",
       "      <td>0</td>\n",
       "      <td>0</td>\n",
       "      <td>NaN</td>\n",
       "      <td>NaN</td>\n",
       "      <td>NaN</td>\n",
       "      <td>NaN</td>\n",
       "      <td>Kolkata Knight Riders</td>\n",
       "      <td>Royal Challengers Bangalore</td>\n",
       "    </tr>\n",
       "  </tbody>\n",
       "</table>\n",
       "</div>"
      ],
      "text/plain": [
       "       id  inning  over  ball      batsman  non_striker     bowler  \\\n",
       "0  335982       1     6     5   RT Ponting  BB McCullum  AA Noffke   \n",
       "1  335982       1     6     6  BB McCullum   RT Ponting  AA Noffke   \n",
       "2  335982       1     7     1  BB McCullum   RT Ponting     Z Khan   \n",
       "3  335982       1     7     2  BB McCullum   RT Ponting     Z Khan   \n",
       "4  335982       1     7     3   RT Ponting  BB McCullum     Z Khan   \n",
       "\n",
       "   batsman_runs  extra_runs  total_runs  non_boundary  is_wicket  \\\n",
       "0             1           0           1             0          0   \n",
       "1             1           0           1             0          0   \n",
       "2             0           0           0             0          0   \n",
       "3             1           0           1             0          0   \n",
       "4             1           0           1             0          0   \n",
       "\n",
       "  dismissal_kind player_dismissed fielder extras_type           batting_team  \\\n",
       "0            NaN              NaN     NaN         NaN  Kolkata Knight Riders   \n",
       "1            NaN              NaN     NaN         NaN  Kolkata Knight Riders   \n",
       "2            NaN              NaN     NaN         NaN  Kolkata Knight Riders   \n",
       "3            NaN              NaN     NaN         NaN  Kolkata Knight Riders   \n",
       "4            NaN              NaN     NaN         NaN  Kolkata Knight Riders   \n",
       "\n",
       "                  bowling_team  \n",
       "0  Royal Challengers Bangalore  \n",
       "1  Royal Challengers Bangalore  \n",
       "2  Royal Challengers Bangalore  \n",
       "3  Royal Challengers Bangalore  \n",
       "4  Royal Challengers Bangalore  "
      ]
     },
     "execution_count": 6,
     "metadata": {},
     "output_type": "execute_result"
    }
   ],
   "source": [
    "df_b.head()"
   ]
  },
  {
   "cell_type": "code",
   "execution_count": 7,
   "id": "d0d7f0af",
   "metadata": {},
   "outputs": [
    {
     "name": "stdout",
     "output_type": "stream",
     "text": [
      "<class 'pandas.core.frame.DataFrame'>\n",
      "RangeIndex: 193468 entries, 0 to 193467\n",
      "Data columns (total 18 columns):\n",
      " #   Column            Non-Null Count   Dtype \n",
      "---  ------            --------------   ----- \n",
      " 0   id                193468 non-null  int64 \n",
      " 1   inning            193468 non-null  int64 \n",
      " 2   over              193468 non-null  int64 \n",
      " 3   ball              193468 non-null  int64 \n",
      " 4   batsman           193468 non-null  object\n",
      " 5   non_striker       193468 non-null  object\n",
      " 6   bowler            193468 non-null  object\n",
      " 7   batsman_runs      193468 non-null  int64 \n",
      " 8   extra_runs        193468 non-null  int64 \n",
      " 9   total_runs        193468 non-null  int64 \n",
      " 10  non_boundary      193468 non-null  int64 \n",
      " 11  is_wicket         193468 non-null  int64 \n",
      " 12  dismissal_kind    9495 non-null    object\n",
      " 13  player_dismissed  9495 non-null    object\n",
      " 14  fielder           6784 non-null    object\n",
      " 15  extras_type       10233 non-null   object\n",
      " 16  batting_team      193468 non-null  object\n",
      " 17  bowling_team      193277 non-null  object\n",
      "dtypes: int64(9), object(9)\n",
      "memory usage: 26.6+ MB\n"
     ]
    }
   ],
   "source": [
    "df_b.info()"
   ]
  },
  {
   "cell_type": "markdown",
   "id": "df5e31b4",
   "metadata": {},
   "source": [
    "# 1.What is the count of matches played in each season?"
   ]
  },
  {
   "cell_type": "code",
   "execution_count": 8,
   "id": "e6a6e069",
   "metadata": {},
   "outputs": [
    {
     "name": "stdout",
     "output_type": "stream",
     "text": [
      "{'2008': 0, '2009': 0, '2010': 0, '2011': 0, '2012': 0, '2013': 0, '2014': 0, '2015': 0, '2016': 0, '2017': 0, '2018': 0, '2019': 0, '2020': 0}\n"
     ]
    }
   ],
   "source": [
    "seasons = {}\n",
    "for i in df_m['date']:\n",
    "    if i.split('-')[0] not in seasons:\n",
    "        seasons[i.split('-')[0]] = 0\n",
    "    \n",
    "print(seasons)"
   ]
  },
  {
   "cell_type": "code",
   "execution_count": 9,
   "id": "3466a56e",
   "metadata": {},
   "outputs": [],
   "source": [
    "for i in seasons.keys():\n",
    "    for j in df_m['date']:\n",
    "        if i in j:\n",
    "            seasons[i]+=1"
   ]
  },
  {
   "cell_type": "code",
   "execution_count": 10,
   "id": "805b163b",
   "metadata": {},
   "outputs": [
    {
     "data": {
      "text/plain": [
       "{'2008': 58,\n",
       " '2009': 57,\n",
       " '2010': 60,\n",
       " '2011': 73,\n",
       " '2012': 74,\n",
       " '2013': 76,\n",
       " '2014': 60,\n",
       " '2015': 59,\n",
       " '2016': 60,\n",
       " '2017': 59,\n",
       " '2018': 60,\n",
       " '2019': 60,\n",
       " '2020': 60}"
      ]
     },
     "execution_count": 10,
     "metadata": {},
     "output_type": "execute_result"
    }
   ],
   "source": [
    "seasons"
   ]
  },
  {
   "cell_type": "code",
   "execution_count": 11,
   "id": "7373cc70",
   "metadata": {},
   "outputs": [
    {
     "data": {
      "text/plain": [
       "<function matplotlib.pyplot.show(close=None, block=None)>"
      ]
     },
     "execution_count": 11,
     "metadata": {},
     "output_type": "execute_result"
    },
    {
     "data": {
      "image/png": "[encoded data removed]",
      "text/plain": [
       "<Figure size 1200x600 with 1 Axes>"
      ]
     },
     "metadata": {},
     "output_type": "display_data"
    }
   ],
   "source": [
    "x = list(seasons.keys())\n",
    "y = list(seasons.values())\n",
    "fig = plt.figure (figsize = (12,6))\n",
    "plt.bar(x,y, color = 'blue', width = 0.5)\n",
    "plt.xlabel('Seasons')\n",
    "plt.ylabel('No.of Matches')\n",
    "plt.title('Match count in each season')\n",
    "plt.show"
   ]
  },
  {
   "cell_type": "markdown",
   "id": "eb93cdfe",
   "metadata": {},
   "source": [
    "# 2. How many runs were scored in each season? "
   ]
  },
  {
   "cell_type": "code",
   "execution_count": 12,
   "id": "a4e76039",
   "metadata": {},
   "outputs": [],
   "source": [
    "matches = {}\n",
    "for i in df_b['id']:\n",
    "    if i not in matches:\n",
    "        matches[i]=0"
   ]
  },
  {
   "cell_type": "code",
   "execution_count": 13,
   "id": "4d1cc014",
   "metadata": {},
   "outputs": [],
   "source": [
    "for i in matches:\n",
    "    runs=0\n",
    "    for j in df_b.values:\n",
    "        if i==j[0]:\n",
    "            runs += j[9]\n",
    "    matches[i]=runs"
   ]
  },
  {
   "cell_type": "code",
   "execution_count": 14,
   "id": "53d6fc4c",
   "metadata": {},
   "outputs": [
    {
     "name": "stdout",
     "output_type": "stream",
     "text": [
      "{'2008': 0, '2009': 0, '2010': 0, '2011': 0, '2012': 0, '2013': 0, '2014': 0, '2015': 0, '2016': 0, '2017': 0, '2018': 0, '2019': 0, '2020': 0}\n"
     ]
    }
   ],
   "source": [
    "season_total_runs = {}\n",
    "\n",
    "for i in seasons.keys():\n",
    "    season_total_runs[i] = 0\n",
    "    \n",
    "print(season_total_runs)"
   ]
  },
  {
   "cell_type": "code",
   "execution_count": 15,
   "id": "34f66286",
   "metadata": {},
   "outputs": [
    {
     "data": {
      "text/plain": [
       "{'2008': 17937,\n",
       " '2009': 16320,\n",
       " '2010': 18864,\n",
       " '2011': 21154,\n",
       " '2012': 22453,\n",
       " '2013': 22541,\n",
       " '2014': 18909,\n",
       " '2015': 18332,\n",
       " '2016': 18862,\n",
       " '2017': 18769,\n",
       " '2018': 19901,\n",
       " '2019': 19400,\n",
       " '2020': 19352}"
      ]
     },
     "execution_count": 15,
     "metadata": {},
     "output_type": "execute_result"
    }
   ],
   "source": [
    "for i in seasons.keys():\n",
    "    runs=0\n",
    "    for j in df_m.values:\n",
    "        if i in j[2]:\n",
    "            if j[0] in matches.keys():\n",
    "                runs += matches[j[0]]\n",
    "            season_total_runs[i] = runs\n",
    "season_total_runs"
   ]
  },
  {
   "cell_type": "code",
   "execution_count": 16,
   "id": "8b8b5850",
   "metadata": {},
   "outputs": [
    {
     "data": {
      "text/plain": [
       "<function matplotlib.pyplot.show(close=None, block=None)>"
      ]
     },
     "execution_count": 16,
     "metadata": {},
     "output_type": "execute_result"
    },
    {
     "data": {
      "image/png": "[encoded data removed]",
      "text/plain": [
       "<Figure size 1000x500 with 1 Axes>"
      ]
     },
     "metadata": {},
     "output_type": "display_data"
    }
   ],
   "source": [
    "x = season_total_runs.keys()\n",
    "y = season_total_runs.values()\n",
    "fig = plt.figure(figsize = (10,5))\n",
    "plt.bar(x,y, color = 'black',width = 0.5)\n",
    "plt.xlabel('Seasons')\n",
    "plt.ylabel('Runs')\n",
    "plt.title(\"Total runs in every seasons\")\n",
    "plt.show"
   ]
  },
  {
   "cell_type": "markdown",
   "id": "e4714d80",
   "metadata": {},
   "source": [
    "# 3 . What was the run scored per match in every season?"
   ]
  },
  {
   "cell_type": "code",
   "execution_count": 17,
   "id": "d29fdad1",
   "metadata": {},
   "outputs": [
    {
     "data": {
      "text/plain": [
       "{'2008': 309.26,\n",
       " '2009': 286.32,\n",
       " '2010': 314.4,\n",
       " '2011': 289.78,\n",
       " '2012': 303.42,\n",
       " '2013': 296.59,\n",
       " '2014': 315.15,\n",
       " '2015': 310.71,\n",
       " '2016': 314.37,\n",
       " '2017': 318.12,\n",
       " '2018': 331.68,\n",
       " '2019': 323.33,\n",
       " '2020': 322.53}"
      ]
     },
     "execution_count": 17,
     "metadata": {},
     "output_type": "execute_result"
    }
   ],
   "source": [
    "runs_per_match ={}\n",
    "for i in seasons.keys():\n",
    "    runs_per_match[i] = round(float(season_total_runs[i]/seasons[i]),2)\n",
    "runs_per_match"
   ]
  },
  {
   "cell_type": "code",
   "execution_count": 18,
   "id": "14725606",
   "metadata": {},
   "outputs": [
    {
     "data": {
      "text/plain": [
       "<function matplotlib.pyplot.show(close=None, block=None)>"
      ]
     },
     "execution_count": 18,
     "metadata": {},
     "output_type": "execute_result"
    },
    {
     "data": {
      "image/png": "[encoded data removed]",
      "text/plain": [
       "<Figure size 1000x500 with 1 Axes>"
      ]
     },
     "metadata": {},
     "output_type": "display_data"
    }
   ],
   "source": [
    "x = runs_per_match.keys()\n",
    "y = runs_per_match.values()\n",
    "fig = plt.figure(figsize = (10,5))\n",
    "plt.bar(x,y, color='purple', width= 0.5)\n",
    "plt.xlabel('Seasons')\n",
    "plt.ylabel('Runs per Match')\n",
    "plt.title('Runs per match every season')\n",
    "plt.show\n"
   ]
  },
  {
   "cell_type": "markdown",
   "id": "a8a8d136",
   "metadata": {},
   "source": [
    "# 4. Who has umpired the most?"
   ]
  },
  {
   "cell_type": "code",
   "execution_count": 19,
   "id": "3101dd75",
   "metadata": {},
   "outputs": [],
   "source": [
    "umpire = {}\n",
    "for j in (-1,-2):\n",
    "    for i in df_m.values:\n",
    "        if i[j] not in umpire:\n",
    "            umpire[i[j]] = 0\n",
    "            "
   ]
  },
  {
   "cell_type": "code",
   "execution_count": 20,
   "id": "f51e5957",
   "metadata": {},
   "outputs": [],
   "source": [
    "for i in umpire.keys():\n",
    "    c = 0\n",
    "    for k in (-1,-2):\n",
    "        for j in df_m.values:\n",
    "            if i == j[k]:\n",
    "                c += 1\n",
    "                \n",
    "                umpire[i] = c"
   ]
  },
  {
   "cell_type": "code",
   "execution_count": 21,
   "id": "6e1babfb",
   "metadata": {},
   "outputs": [
    {
     "data": {
      "text/html": [
       "<div>\n",
       "<style scoped>\n",
       "    .dataframe tbody tr th:only-of-type {\n",
       "        vertical-align: middle;\n",
       "    }\n",
       "\n",
       "    .dataframe tbody tr th {\n",
       "        vertical-align: top;\n",
       "    }\n",
       "\n",
       "    .dataframe thead th {\n",
       "        text-align: right;\n",
       "    }\n",
       "</style>\n",
       "<table border=\"1\" class=\"dataframe\">\n",
       "  <thead>\n",
       "    <tr style=\"text-align: right;\">\n",
       "      <th></th>\n",
       "      <th>Umpire</th>\n",
       "      <th>No.of Matches</th>\n",
       "    </tr>\n",
       "  </thead>\n",
       "  <tbody>\n",
       "    <tr>\n",
       "      <th>19</th>\n",
       "      <td>S Ravi</td>\n",
       "      <td>121</td>\n",
       "    </tr>\n",
       "    <tr>\n",
       "      <th>20</th>\n",
       "      <td>HDPK Dharmasena</td>\n",
       "      <td>94</td>\n",
       "    </tr>\n",
       "    <tr>\n",
       "      <th>31</th>\n",
       "      <td>AK Chaudhary</td>\n",
       "      <td>87</td>\n",
       "    </tr>\n",
       "    <tr>\n",
       "      <th>30</th>\n",
       "      <td>C Shamshuddin</td>\n",
       "      <td>82</td>\n",
       "    </tr>\n",
       "    <tr>\n",
       "      <th>16</th>\n",
       "      <td>M Erasmus</td>\n",
       "      <td>65</td>\n",
       "    </tr>\n",
       "    <tr>\n",
       "      <th>43</th>\n",
       "      <td>Nitin Menon</td>\n",
       "      <td>57</td>\n",
       "    </tr>\n",
       "    <tr>\n",
       "      <th>34</th>\n",
       "      <td>CK Nandan</td>\n",
       "      <td>57</td>\n",
       "    </tr>\n",
       "    <tr>\n",
       "      <th>15</th>\n",
       "      <td>SJA Taufel</td>\n",
       "      <td>55</td>\n",
       "    </tr>\n",
       "    <tr>\n",
       "      <th>47</th>\n",
       "      <td>Asad Rauf</td>\n",
       "      <td>51</td>\n",
       "    </tr>\n",
       "    <tr>\n",
       "      <th>25</th>\n",
       "      <td>VA Kulkarni</td>\n",
       "      <td>50</td>\n",
       "    </tr>\n",
       "    <tr>\n",
       "      <th>27</th>\n",
       "      <td>BNJ Oxenford</td>\n",
       "      <td>48</td>\n",
       "    </tr>\n",
       "    <tr>\n",
       "      <th>38</th>\n",
       "      <td>CB Gaffaney</td>\n",
       "      <td>47</td>\n",
       "    </tr>\n",
       "    <tr>\n",
       "      <th>24</th>\n",
       "      <td>RJ Tucker</td>\n",
       "      <td>46</td>\n",
       "    </tr>\n",
       "    <tr>\n",
       "      <th>11</th>\n",
       "      <td>BR Doctrove</td>\n",
       "      <td>42</td>\n",
       "    </tr>\n",
       "    <tr>\n",
       "      <th>0</th>\n",
       "      <td>RE Koertzen</td>\n",
       "      <td>41</td>\n",
       "    </tr>\n",
       "    <tr>\n",
       "      <th>48</th>\n",
       "      <td>Aleem Dar</td>\n",
       "      <td>38</td>\n",
       "    </tr>\n",
       "    <tr>\n",
       "      <th>35</th>\n",
       "      <td>NJ Llong</td>\n",
       "      <td>37</td>\n",
       "    </tr>\n",
       "    <tr>\n",
       "      <th>49</th>\n",
       "      <td>BF Bowden</td>\n",
       "      <td>37</td>\n",
       "    </tr>\n",
       "    <tr>\n",
       "      <th>54</th>\n",
       "      <td>KN Ananthapadmanabhan</td>\n",
       "      <td>33</td>\n",
       "    </tr>\n",
       "    <tr>\n",
       "      <th>36</th>\n",
       "      <td>RK Illingworth</td>\n",
       "      <td>31</td>\n",
       "    </tr>\n",
       "    <tr>\n",
       "      <th>18</th>\n",
       "      <td>SK Tarapore</td>\n",
       "      <td>31</td>\n",
       "    </tr>\n",
       "    <tr>\n",
       "      <th>28</th>\n",
       "      <td>S Asnani</td>\n",
       "      <td>30</td>\n",
       "    </tr>\n",
       "    <tr>\n",
       "      <th>5</th>\n",
       "      <td>RB Tiffin</td>\n",
       "      <td>30</td>\n",
       "    </tr>\n",
       "    <tr>\n",
       "      <th>53</th>\n",
       "      <td>AY Dandekar</td>\n",
       "      <td>28</td>\n",
       "    </tr>\n",
       "    <tr>\n",
       "      <th>3</th>\n",
       "      <td>DJ Harper</td>\n",
       "      <td>27</td>\n",
       "    </tr>\n",
       "    <tr>\n",
       "      <th>41</th>\n",
       "      <td>VK Sharma</td>\n",
       "      <td>26</td>\n",
       "    </tr>\n",
       "    <tr>\n",
       "      <th>6</th>\n",
       "      <td>AM Saheba</td>\n",
       "      <td>26</td>\n",
       "    </tr>\n",
       "    <tr>\n",
       "      <th>42</th>\n",
       "      <td>A Nand Kishore</td>\n",
       "      <td>25</td>\n",
       "    </tr>\n",
       "    <tr>\n",
       "      <th>22</th>\n",
       "      <td>PR Reiffel</td>\n",
       "      <td>24</td>\n",
       "    </tr>\n",
       "    <tr>\n",
       "      <th>4</th>\n",
       "      <td>K Hariharan</td>\n",
       "      <td>21</td>\n",
       "    </tr>\n",
       "    <tr>\n",
       "      <th>45</th>\n",
       "      <td>YC Barde</td>\n",
       "      <td>19</td>\n",
       "    </tr>\n",
       "    <tr>\n",
       "      <th>26</th>\n",
       "      <td>JD Cloete</td>\n",
       "      <td>17</td>\n",
       "    </tr>\n",
       "    <tr>\n",
       "      <th>21</th>\n",
       "      <td>SS Hazare</td>\n",
       "      <td>17</td>\n",
       "    </tr>\n",
       "    <tr>\n",
       "      <th>12</th>\n",
       "      <td>BG Jerling</td>\n",
       "      <td>17</td>\n",
       "    </tr>\n",
       "    <tr>\n",
       "      <th>29</th>\n",
       "      <td>S Das</td>\n",
       "      <td>15</td>\n",
       "    </tr>\n",
       "    <tr>\n",
       "      <th>32</th>\n",
       "      <td>K Srinath</td>\n",
       "      <td>15</td>\n",
       "    </tr>\n",
       "    <tr>\n",
       "      <th>1</th>\n",
       "      <td>SL Shastri</td>\n",
       "      <td>14</td>\n",
       "    </tr>\n",
       "    <tr>\n",
       "      <th>8</th>\n",
       "      <td>IL Howell</td>\n",
       "      <td>14</td>\n",
       "    </tr>\n",
       "    <tr>\n",
       "      <th>44</th>\n",
       "      <td>A Deshmukh</td>\n",
       "      <td>12</td>\n",
       "    </tr>\n",
       "    <tr>\n",
       "      <th>7</th>\n",
       "      <td>MR Benson</td>\n",
       "      <td>12</td>\n",
       "    </tr>\n",
       "    <tr>\n",
       "      <th>37</th>\n",
       "      <td>PG Pathak</td>\n",
       "      <td>11</td>\n",
       "    </tr>\n",
       "    <tr>\n",
       "      <th>55</th>\n",
       "      <td>UV Gandhe</td>\n",
       "      <td>8</td>\n",
       "    </tr>\n",
       "    <tr>\n",
       "      <th>13</th>\n",
       "      <td>SJ Davis</td>\n",
       "      <td>7</td>\n",
       "    </tr>\n",
       "    <tr>\n",
       "      <th>50</th>\n",
       "      <td>GAV Baxter</td>\n",
       "      <td>7</td>\n",
       "    </tr>\n",
       "    <tr>\n",
       "      <th>51</th>\n",
       "      <td>RM Deshpande</td>\n",
       "      <td>7</td>\n",
       "    </tr>\n",
       "    <tr>\n",
       "      <th>40</th>\n",
       "      <td>SD Fry</td>\n",
       "      <td>6</td>\n",
       "    </tr>\n",
       "    <tr>\n",
       "      <th>23</th>\n",
       "      <td>AL Hill</td>\n",
       "      <td>6</td>\n",
       "    </tr>\n",
       "    <tr>\n",
       "      <th>9</th>\n",
       "      <td>AV Jayaprakash</td>\n",
       "      <td>6</td>\n",
       "    </tr>\n",
       "    <tr>\n",
       "      <th>10</th>\n",
       "      <td>I Shivram</td>\n",
       "      <td>6</td>\n",
       "    </tr>\n",
       "    <tr>\n",
       "      <th>46</th>\n",
       "      <td>IJ Gould</td>\n",
       "      <td>6</td>\n",
       "    </tr>\n",
       "    <tr>\n",
       "      <th>2</th>\n",
       "      <td>GA Pratapkumar</td>\n",
       "      <td>6</td>\n",
       "    </tr>\n",
       "    <tr>\n",
       "      <th>39</th>\n",
       "      <td>K Srinivasan</td>\n",
       "      <td>6</td>\n",
       "    </tr>\n",
       "    <tr>\n",
       "      <th>17</th>\n",
       "      <td>TH Wijewardene</td>\n",
       "      <td>5</td>\n",
       "    </tr>\n",
       "    <tr>\n",
       "      <th>52</th>\n",
       "      <td>K Bharatan</td>\n",
       "      <td>3</td>\n",
       "    </tr>\n",
       "    <tr>\n",
       "      <th>14</th>\n",
       "      <td>SD Ranade</td>\n",
       "      <td>2</td>\n",
       "    </tr>\n",
       "    <tr>\n",
       "      <th>33</th>\n",
       "      <td>Subroto Das</td>\n",
       "      <td>1</td>\n",
       "    </tr>\n",
       "  </tbody>\n",
       "</table>\n",
       "</div>"
      ],
      "text/plain": [
       "                   Umpire  No.of Matches\n",
       "19                 S Ravi            121\n",
       "20        HDPK Dharmasena             94\n",
       "31           AK Chaudhary             87\n",
       "30          C Shamshuddin             82\n",
       "16              M Erasmus             65\n",
       "43            Nitin Menon             57\n",
       "34              CK Nandan             57\n",
       "15             SJA Taufel             55\n",
       "47              Asad Rauf             51\n",
       "25            VA Kulkarni             50\n",
       "27           BNJ Oxenford             48\n",
       "38            CB Gaffaney             47\n",
       "24              RJ Tucker             46\n",
       "11            BR Doctrove             42\n",
       "0             RE Koertzen             41\n",
       "48              Aleem Dar             38\n",
       "35               NJ Llong             37\n",
       "49              BF Bowden             37\n",
       "54  KN Ananthapadmanabhan             33\n",
       "36         RK Illingworth             31\n",
       "18            SK Tarapore             31\n",
       "28               S Asnani             30\n",
       "5               RB Tiffin             30\n",
       "53            AY Dandekar             28\n",
       "3               DJ Harper             27\n",
       "41              VK Sharma             26\n",
       "6               AM Saheba             26\n",
       "42         A Nand Kishore             25\n",
       "22             PR Reiffel             24\n",
       "4             K Hariharan             21\n",
       "45               YC Barde             19\n",
       "26              JD Cloete             17\n",
       "21              SS Hazare             17\n",
       "12             BG Jerling             17\n",
       "29                  S Das             15\n",
       "32              K Srinath             15\n",
       "1              SL Shastri             14\n",
       "8               IL Howell             14\n",
       "44             A Deshmukh             12\n",
       "7               MR Benson             12\n",
       "37              PG Pathak             11\n",
       "55              UV Gandhe              8\n",
       "13               SJ Davis              7\n",
       "50             GAV Baxter              7\n",
       "51           RM Deshpande              7\n",
       "40                 SD Fry              6\n",
       "23                AL Hill              6\n",
       "9          AV Jayaprakash              6\n",
       "10              I Shivram              6\n",
       "46               IJ Gould              6\n",
       "2          GA Pratapkumar              6\n",
       "39           K Srinivasan              6\n",
       "17         TH Wijewardene              5\n",
       "52             K Bharatan              3\n",
       "14              SD Ranade              2\n",
       "33            Subroto Das              1"
      ]
     },
     "execution_count": 21,
     "metadata": {},
     "output_type": "execute_result"
    }
   ],
   "source": [
    "lst_u = umpire.items()\n",
    "df_umpire = pd.DataFrame(lst_u, columns=['Umpire', 'No.of Matches'])\n",
    "df_umpire.sort_values(by = 'No.of Matches', ascending = False)"
   ]
  },
  {
   "cell_type": "markdown",
   "id": "a5f4dbdb",
   "metadata": {},
   "source": [
    "# 5. Which team has won the most tosses?"
   ]
  },
  {
   "cell_type": "code",
   "execution_count": 22,
   "id": "a22ccf65",
   "metadata": {},
   "outputs": [],
   "source": [
    "toss_winner = {}\n",
    "for i in df_m.values:\n",
    "    if i[8] not in toss_winner:\n",
    "        toss_winner[i[8]]=0"
   ]
  },
  {
   "cell_type": "code",
   "execution_count": 23,
   "id": "6df1cf86",
   "metadata": {},
   "outputs": [],
   "source": [
    "for i in toss_winner.keys():\n",
    "    c = 0\n",
    "    for j in df_m.values:\n",
    "        if i == j[8]:\n",
    "            c += 1\n",
    "            toss_winner[i] = c"
   ]
  },
  {
   "cell_type": "code",
   "execution_count": 24,
   "id": "05b30c6c",
   "metadata": {},
   "outputs": [
    {
     "data": {
      "text/html": [
       "<div>\n",
       "<style scoped>\n",
       "    .dataframe tbody tr th:only-of-type {\n",
       "        vertical-align: middle;\n",
       "    }\n",
       "\n",
       "    .dataframe tbody tr th {\n",
       "        vertical-align: top;\n",
       "    }\n",
       "\n",
       "    .dataframe thead th {\n",
       "        text-align: right;\n",
       "    }\n",
       "</style>\n",
       "<table border=\"1\" class=\"dataframe\">\n",
       "  <thead>\n",
       "    <tr style=\"text-align: right;\">\n",
       "      <th></th>\n",
       "      <th>Team</th>\n",
       "      <th>No.of tosses won</th>\n",
       "    </tr>\n",
       "  </thead>\n",
       "  <tbody>\n",
       "    <tr>\n",
       "      <th>3</th>\n",
       "      <td>Mumbai Indians</td>\n",
       "      <td>106</td>\n",
       "    </tr>\n",
       "    <tr>\n",
       "      <th>6</th>\n",
       "      <td>Kolkata Knight Riders</td>\n",
       "      <td>98</td>\n",
       "    </tr>\n",
       "    <tr>\n",
       "      <th>1</th>\n",
       "      <td>Chennai Super Kings</td>\n",
       "      <td>97</td>\n",
       "    </tr>\n",
       "    <tr>\n",
       "      <th>0</th>\n",
       "      <td>Royal Challengers Bangalore</td>\n",
       "      <td>87</td>\n",
       "    </tr>\n",
       "    <tr>\n",
       "      <th>2</th>\n",
       "      <td>Rajasthan Royals</td>\n",
       "      <td>87</td>\n",
       "    </tr>\n",
       "    <tr>\n",
       "      <th>5</th>\n",
       "      <td>Kings XI Punjab</td>\n",
       "      <td>85</td>\n",
       "    </tr>\n",
       "    <tr>\n",
       "      <th>7</th>\n",
       "      <td>Delhi Daredevils</td>\n",
       "      <td>80</td>\n",
       "    </tr>\n",
       "    <tr>\n",
       "      <th>10</th>\n",
       "      <td>Sunrisers Hyderabad</td>\n",
       "      <td>57</td>\n",
       "    </tr>\n",
       "    <tr>\n",
       "      <th>4</th>\n",
       "      <td>Deccan Chargers</td>\n",
       "      <td>43</td>\n",
       "    </tr>\n",
       "    <tr>\n",
       "      <th>9</th>\n",
       "      <td>Pune Warriors</td>\n",
       "      <td>20</td>\n",
       "    </tr>\n",
       "    <tr>\n",
       "      <th>14</th>\n",
       "      <td>Delhi Capitals</td>\n",
       "      <td>20</td>\n",
       "    </tr>\n",
       "    <tr>\n",
       "      <th>11</th>\n",
       "      <td>Gujarat Lions</td>\n",
       "      <td>15</td>\n",
       "    </tr>\n",
       "    <tr>\n",
       "      <th>8</th>\n",
       "      <td>Kochi Tuskers Kerala</td>\n",
       "      <td>8</td>\n",
       "    </tr>\n",
       "    <tr>\n",
       "      <th>12</th>\n",
       "      <td>Rising Pune Supergiants</td>\n",
       "      <td>7</td>\n",
       "    </tr>\n",
       "    <tr>\n",
       "      <th>13</th>\n",
       "      <td>Rising Pune Supergiant</td>\n",
       "      <td>6</td>\n",
       "    </tr>\n",
       "  </tbody>\n",
       "</table>\n",
       "</div>"
      ],
      "text/plain": [
       "                           Team  No.of tosses won\n",
       "3                Mumbai Indians               106\n",
       "6         Kolkata Knight Riders                98\n",
       "1           Chennai Super Kings                97\n",
       "0   Royal Challengers Bangalore                87\n",
       "2              Rajasthan Royals                87\n",
       "5               Kings XI Punjab                85\n",
       "7              Delhi Daredevils                80\n",
       "10          Sunrisers Hyderabad                57\n",
       "4               Deccan Chargers                43\n",
       "9                 Pune Warriors                20\n",
       "14               Delhi Capitals                20\n",
       "11                Gujarat Lions                15\n",
       "8          Kochi Tuskers Kerala                 8\n",
       "12      Rising Pune Supergiants                 7\n",
       "13       Rising Pune Supergiant                 6"
      ]
     },
     "execution_count": 24,
     "metadata": {},
     "output_type": "execute_result"
    }
   ],
   "source": [
    "lst_t = toss_winner.items()\n",
    "df_toss_winner = pd.DataFrame(lst_t, columns = ['Team', 'No.of tosses won'])\n",
    "df_toss_winner.sort_values(by = 'No.of tosses won', ascending = False)"
   ]
  },
  {
   "cell_type": "code",
   "execution_count": 25,
   "id": "86b2cf58",
   "metadata": {},
   "outputs": [
    {
     "data": {
      "text/plain": [
       "<function matplotlib.pyplot.show(close=None, block=None)>"
      ]
     },
     "execution_count": 25,
     "metadata": {},
     "output_type": "execute_result"
    },
    {
     "data": {
      "image/png": "[encoded data removed]",
      "text/plain": [
       "<Figure size 3000x1000 with 1 Axes>"
      ]
     },
     "metadata": {},
     "output_type": "display_data"
    }
   ],
   "source": [
    "x = toss_winner.keys()\n",
    "y = toss_winner.values()\n",
    "fig = plt.figure(figsize = (30,10))\n",
    "plt.bar(x,y, color = 'red',width = 0.6)\n",
    "plt.xlabel('Teams')\n",
    "plt.ylabel('Tosses won')\n",
    "plt.title('No.of Tosses won by everyteam')\n",
    "plt.show"
   ]
  },
  {
   "cell_type": "markdown",
   "id": "3d2382b8",
   "metadata": {},
   "source": [
    "# 6. Which does the team decide after winning the toss?"
   ]
  },
  {
   "cell_type": "code",
   "execution_count": 26,
   "id": "7c64486f",
   "metadata": {},
   "outputs": [],
   "source": [
    "toss_des = {}\n",
    "for i in df_m.values:\n",
    "    if i[9] not in toss_winner:\n",
    "        toss_des[i[9]] = 0"
   ]
  },
  {
   "cell_type": "code",
   "execution_count": 27,
   "id": "40b6e499",
   "metadata": {},
   "outputs": [],
   "source": [
    "for i in toss_des.keys():\n",
    "    c = 0\n",
    "    for j in df_m.values:\n",
    "        if i == j[9]:\n",
    "            c += 1\n",
    "            toss_des[i] = c"
   ]
  },
  {
   "cell_type": "code",
   "execution_count": 28,
   "id": "e850dc1b",
   "metadata": {},
   "outputs": [
    {
     "data": {
      "text/plain": [
       "{'field': 496, 'bat': 320}"
      ]
     },
     "execution_count": 28,
     "metadata": {},
     "output_type": "execute_result"
    }
   ],
   "source": [
    "toss_des"
   ]
  },
  {
   "cell_type": "code",
   "execution_count": 29,
   "id": "c4c2f3ef",
   "metadata": {},
   "outputs": [
    {
     "data": {
      "text/plain": [
       "<function matplotlib.pyplot.show(close=None, block=None)>"
      ]
     },
     "execution_count": 29,
     "metadata": {},
     "output_type": "execute_result"
    },
    {
     "data": {
      "image/png": "[encoded data removed]",
      "text/plain": [
       "<Figure size 1000x500 with 1 Axes>"
      ]
     },
     "metadata": {},
     "output_type": "display_data"
    }
   ],
   "source": [
    "x = toss_des.keys()\n",
    "y = toss_des.values()\n",
    "fig = plt.figure(figsize = (10,5))\n",
    "plt.bar(x,y, color = 'black', width = 0.3)\n",
    "plt.xlabel('Desicion')\n",
    "plt.ylabel('No.of Time taken')\n",
    "plt.title('No.of desicion taken after winning the toss')\n",
    "plt.show"
   ]
  },
  {
   "cell_type": "markdown",
   "id": "bd670697",
   "metadata": {},
   "source": [
    "# 7. Does winning the toss imply winning the game ?"
   ]
  },
  {
   "cell_type": "code",
   "execution_count": 30,
   "id": "e15ac8be",
   "metadata": {},
   "outputs": [],
   "source": [
    "df_m1 = pd.read_csv('IPL MATCHES 2008-2020.CSV')\n",
    "df_m1['toss_winner'] = df_m1['toss_winner'].astype('category').cat.codes\n",
    "df_m1['winner'] = df_m1['winner'].astype('category').cat.codes"
   ]
  },
  {
   "cell_type": "code",
   "execution_count": 31,
   "id": "56827161",
   "metadata": {},
   "outputs": [
    {
     "name": "stdout",
     "output_type": "stream",
     "text": [
      "0.47\n"
     ]
    }
   ],
   "source": [
    "corr_win = df_m1['toss_winner'].corr(df_m1['winner'])\n",
    "print(round(corr_win,2))"
   ]
  },
  {
   "cell_type": "markdown",
   "id": "18a6fc4c",
   "metadata": {},
   "source": [
    "# 8. How many times has the chasing team won the match?"
   ]
  },
  {
   "cell_type": "code",
   "execution_count": 32,
   "id": "679dd5af",
   "metadata": {},
   "outputs": [
    {
     "name": "stdout",
     "output_type": "stream",
     "text": [
      "435\n",
      "That is  53.31 %of the total 816 matches\n"
     ]
    }
   ],
   "source": [
    "chase_win = 0\n",
    "for i in df_m['result']:\n",
    "    if i == 'wickets':\n",
    "        chase_win += 1\n",
    "print(chase_win)\n",
    "print('That is ', round(chase_win/len(df_m)*100,2), '%of the total',len(df_m),'matches')"
   ]
  },
  {
   "cell_type": "markdown",
   "id": "68ec2b23",
   "metadata": {},
   "source": [
    "# 9. Which team has played the most number of matches?"
   ]
  },
  {
   "cell_type": "code",
   "execution_count": 33,
   "id": "293f9166",
   "metadata": {},
   "outputs": [],
   "source": [
    "most_matches = {}\n",
    "for j in (6,7):\n",
    "    for i in df_m.values:\n",
    "        if i[j] not in most_matches:\n",
    "            most_matches[i[j]] = 0"
   ]
  },
  {
   "cell_type": "code",
   "execution_count": 34,
   "id": "b401577e",
   "metadata": {},
   "outputs": [],
   "source": [
    "for i in most_matches.keys():\n",
    "    c =0 \n",
    "    for j in (6,7):\n",
    "        for k in df_m.values:\n",
    "            if i == k[j]:\n",
    "                c += 1\n",
    "                most_matches[i] = c"
   ]
  },
  {
   "cell_type": "code",
   "execution_count": 35,
   "id": "74ee511e",
   "metadata": {},
   "outputs": [
    {
     "data": {
      "text/html": [
       "<div>\n",
       "<style scoped>\n",
       "    .dataframe tbody tr th:only-of-type {\n",
       "        vertical-align: middle;\n",
       "    }\n",
       "\n",
       "    .dataframe tbody tr th {\n",
       "        vertical-align: top;\n",
       "    }\n",
       "\n",
       "    .dataframe thead th {\n",
       "        text-align: right;\n",
       "    }\n",
       "</style>\n",
       "<table border=\"1\" class=\"dataframe\">\n",
       "  <thead>\n",
       "    <tr style=\"text-align: right;\">\n",
       "      <th></th>\n",
       "      <th>Team</th>\n",
       "      <th>No.of matches played</th>\n",
       "    </tr>\n",
       "  </thead>\n",
       "  <tbody>\n",
       "    <tr>\n",
       "      <th>3</th>\n",
       "      <td>Mumbai Indians</td>\n",
       "      <td>203</td>\n",
       "    </tr>\n",
       "    <tr>\n",
       "      <th>0</th>\n",
       "      <td>Royal Challengers Bangalore</td>\n",
       "      <td>195</td>\n",
       "    </tr>\n",
       "    <tr>\n",
       "      <th>4</th>\n",
       "      <td>Kolkata Knight Riders</td>\n",
       "      <td>192</td>\n",
       "    </tr>\n",
       "    <tr>\n",
       "      <th>1</th>\n",
       "      <td>Kings XI Punjab</td>\n",
       "      <td>190</td>\n",
       "    </tr>\n",
       "    <tr>\n",
       "      <th>7</th>\n",
       "      <td>Chennai Super Kings</td>\n",
       "      <td>178</td>\n",
       "    </tr>\n",
       "    <tr>\n",
       "      <th>2</th>\n",
       "      <td>Delhi Daredevils</td>\n",
       "      <td>161</td>\n",
       "    </tr>\n",
       "    <tr>\n",
       "      <th>5</th>\n",
       "      <td>Rajasthan Royals</td>\n",
       "      <td>161</td>\n",
       "    </tr>\n",
       "    <tr>\n",
       "      <th>10</th>\n",
       "      <td>Sunrisers Hyderabad</td>\n",
       "      <td>124</td>\n",
       "    </tr>\n",
       "    <tr>\n",
       "      <th>6</th>\n",
       "      <td>Deccan Chargers</td>\n",
       "      <td>75</td>\n",
       "    </tr>\n",
       "    <tr>\n",
       "      <th>9</th>\n",
       "      <td>Pune Warriors</td>\n",
       "      <td>46</td>\n",
       "    </tr>\n",
       "    <tr>\n",
       "      <th>14</th>\n",
       "      <td>Delhi Capitals</td>\n",
       "      <td>33</td>\n",
       "    </tr>\n",
       "    <tr>\n",
       "      <th>11</th>\n",
       "      <td>Gujarat Lions</td>\n",
       "      <td>30</td>\n",
       "    </tr>\n",
       "    <tr>\n",
       "      <th>13</th>\n",
       "      <td>Rising Pune Supergiant</td>\n",
       "      <td>16</td>\n",
       "    </tr>\n",
       "    <tr>\n",
       "      <th>8</th>\n",
       "      <td>Kochi Tuskers Kerala</td>\n",
       "      <td>14</td>\n",
       "    </tr>\n",
       "    <tr>\n",
       "      <th>12</th>\n",
       "      <td>Rising Pune Supergiants</td>\n",
       "      <td>14</td>\n",
       "    </tr>\n",
       "  </tbody>\n",
       "</table>\n",
       "</div>"
      ],
      "text/plain": [
       "                           Team  No.of matches played\n",
       "3                Mumbai Indians                   203\n",
       "0   Royal Challengers Bangalore                   195\n",
       "4         Kolkata Knight Riders                   192\n",
       "1               Kings XI Punjab                   190\n",
       "7           Chennai Super Kings                   178\n",
       "2              Delhi Daredevils                   161\n",
       "5              Rajasthan Royals                   161\n",
       "10          Sunrisers Hyderabad                   124\n",
       "6               Deccan Chargers                    75\n",
       "9                 Pune Warriors                    46\n",
       "14               Delhi Capitals                    33\n",
       "11                Gujarat Lions                    30\n",
       "13       Rising Pune Supergiant                    16\n",
       "8          Kochi Tuskers Kerala                    14\n",
       "12      Rising Pune Supergiants                    14"
      ]
     },
     "execution_count": 35,
     "metadata": {},
     "output_type": "execute_result"
    }
   ],
   "source": [
    "lst_m = most_matches.items()\n",
    "df_most_matches = pd.DataFrame(lst_m,columns = ['Team', 'No.of matches played'])\n",
    "df_most_matches.sort_values(by = 'No.of matches played', ascending = False)"
   ]
  },
  {
   "cell_type": "markdown",
   "id": "050f803d",
   "metadata": {},
   "source": [
    "# 10. Which Team has won the most number of times?"
   ]
  },
  {
   "cell_type": "code",
   "execution_count": 36,
   "id": "badf6177",
   "metadata": {},
   "outputs": [],
   "source": [
    "most_wins = {}\n",
    "for i in most_matches.keys():\n",
    "    c =0 \n",
    "    for j in df_m.values:\n",
    "        if(i) == (j[10]):\n",
    "            c += 1\n",
    "            most_wins[(i)] = c"
   ]
  },
  {
   "cell_type": "code",
   "execution_count": 37,
   "id": "2cf9b65f",
   "metadata": {},
   "outputs": [
    {
     "data": {
      "text/html": [
       "<div>\n",
       "<style scoped>\n",
       "    .dataframe tbody tr th:only-of-type {\n",
       "        vertical-align: middle;\n",
       "    }\n",
       "\n",
       "    .dataframe tbody tr th {\n",
       "        vertical-align: top;\n",
       "    }\n",
       "\n",
       "    .dataframe thead th {\n",
       "        text-align: right;\n",
       "    }\n",
       "</style>\n",
       "<table border=\"1\" class=\"dataframe\">\n",
       "  <thead>\n",
       "    <tr style=\"text-align: right;\">\n",
       "      <th></th>\n",
       "      <th>Team</th>\n",
       "      <th>No.of times won</th>\n",
       "    </tr>\n",
       "  </thead>\n",
       "  <tbody>\n",
       "    <tr>\n",
       "      <th>3</th>\n",
       "      <td>Mumbai Indians</td>\n",
       "      <td>120</td>\n",
       "    </tr>\n",
       "    <tr>\n",
       "      <th>7</th>\n",
       "      <td>Chennai Super Kings</td>\n",
       "      <td>106</td>\n",
       "    </tr>\n",
       "    <tr>\n",
       "      <th>4</th>\n",
       "      <td>Kolkata Knight Riders</td>\n",
       "      <td>99</td>\n",
       "    </tr>\n",
       "    <tr>\n",
       "      <th>0</th>\n",
       "      <td>Royal Challengers Bangalore</td>\n",
       "      <td>91</td>\n",
       "    </tr>\n",
       "    <tr>\n",
       "      <th>1</th>\n",
       "      <td>Kings XI Punjab</td>\n",
       "      <td>88</td>\n",
       "    </tr>\n",
       "    <tr>\n",
       "      <th>5</th>\n",
       "      <td>Rajasthan Royals</td>\n",
       "      <td>81</td>\n",
       "    </tr>\n",
       "    <tr>\n",
       "      <th>2</th>\n",
       "      <td>Delhi Daredevils</td>\n",
       "      <td>67</td>\n",
       "    </tr>\n",
       "    <tr>\n",
       "      <th>10</th>\n",
       "      <td>Sunrisers Hyderabad</td>\n",
       "      <td>66</td>\n",
       "    </tr>\n",
       "    <tr>\n",
       "      <th>6</th>\n",
       "      <td>Deccan Chargers</td>\n",
       "      <td>29</td>\n",
       "    </tr>\n",
       "    <tr>\n",
       "      <th>14</th>\n",
       "      <td>Delhi Capitals</td>\n",
       "      <td>19</td>\n",
       "    </tr>\n",
       "    <tr>\n",
       "      <th>11</th>\n",
       "      <td>Gujarat Lions</td>\n",
       "      <td>13</td>\n",
       "    </tr>\n",
       "    <tr>\n",
       "      <th>9</th>\n",
       "      <td>Pune Warriors</td>\n",
       "      <td>12</td>\n",
       "    </tr>\n",
       "    <tr>\n",
       "      <th>13</th>\n",
       "      <td>Rising Pune Supergiant</td>\n",
       "      <td>10</td>\n",
       "    </tr>\n",
       "    <tr>\n",
       "      <th>8</th>\n",
       "      <td>Kochi Tuskers Kerala</td>\n",
       "      <td>6</td>\n",
       "    </tr>\n",
       "    <tr>\n",
       "      <th>12</th>\n",
       "      <td>Rising Pune Supergiants</td>\n",
       "      <td>5</td>\n",
       "    </tr>\n",
       "  </tbody>\n",
       "</table>\n",
       "</div>"
      ],
      "text/plain": [
       "                           Team  No.of times won\n",
       "3                Mumbai Indians              120\n",
       "7           Chennai Super Kings              106\n",
       "4         Kolkata Knight Riders               99\n",
       "0   Royal Challengers Bangalore               91\n",
       "1               Kings XI Punjab               88\n",
       "5              Rajasthan Royals               81\n",
       "2              Delhi Daredevils               67\n",
       "10          Sunrisers Hyderabad               66\n",
       "6               Deccan Chargers               29\n",
       "14               Delhi Capitals               19\n",
       "11                Gujarat Lions               13\n",
       "9                 Pune Warriors               12\n",
       "13       Rising Pune Supergiant               10\n",
       "8          Kochi Tuskers Kerala                6\n",
       "12      Rising Pune Supergiants                5"
      ]
     },
     "execution_count": 37,
     "metadata": {},
     "output_type": "execute_result"
    }
   ],
   "source": [
    "lst_mw = most_wins.items()\n",
    "df_most_wins = pd.DataFrame(lst_mw, columns = ['Team', 'No.of times won' ])\n",
    "df_most_wins.sort_values(by = 'No.of times won',ascending = False)"
   ]
  },
  {
   "cell_type": "markdown",
   "id": "274b0634",
   "metadata": {},
   "source": [
    "# 11. Which team has the highest winning percentage?"
   ]
  },
  {
   "cell_type": "code",
   "execution_count": 38,
   "id": "1dfd4e9f",
   "metadata": {},
   "outputs": [],
   "source": [
    "win_perc = {}\n",
    "for i in most_wins.keys():\n",
    "    win_perc[i] = round(most_wins[i]/most_matches[i]*100,2)\n",
    "    "
   ]
  },
  {
   "cell_type": "code",
   "execution_count": 39,
   "id": "e646b6cd",
   "metadata": {},
   "outputs": [
    {
     "data": {
      "text/html": [
       "<div>\n",
       "<style scoped>\n",
       "    .dataframe tbody tr th:only-of-type {\n",
       "        vertical-align: middle;\n",
       "    }\n",
       "\n",
       "    .dataframe tbody tr th {\n",
       "        vertical-align: top;\n",
       "    }\n",
       "\n",
       "    .dataframe thead th {\n",
       "        text-align: right;\n",
       "    }\n",
       "</style>\n",
       "<table border=\"1\" class=\"dataframe\">\n",
       "  <thead>\n",
       "    <tr style=\"text-align: right;\">\n",
       "      <th></th>\n",
       "      <th>Team</th>\n",
       "      <th>Win Percentage</th>\n",
       "    </tr>\n",
       "  </thead>\n",
       "  <tbody>\n",
       "    <tr>\n",
       "      <th>13</th>\n",
       "      <td>Rising Pune Supergiant</td>\n",
       "      <td>62.50</td>\n",
       "    </tr>\n",
       "    <tr>\n",
       "      <th>7</th>\n",
       "      <td>Chennai Super Kings</td>\n",
       "      <td>59.55</td>\n",
       "    </tr>\n",
       "    <tr>\n",
       "      <th>3</th>\n",
       "      <td>Mumbai Indians</td>\n",
       "      <td>59.11</td>\n",
       "    </tr>\n",
       "    <tr>\n",
       "      <th>14</th>\n",
       "      <td>Delhi Capitals</td>\n",
       "      <td>57.58</td>\n",
       "    </tr>\n",
       "    <tr>\n",
       "      <th>10</th>\n",
       "      <td>Sunrisers Hyderabad</td>\n",
       "      <td>53.23</td>\n",
       "    </tr>\n",
       "    <tr>\n",
       "      <th>4</th>\n",
       "      <td>Kolkata Knight Riders</td>\n",
       "      <td>51.56</td>\n",
       "    </tr>\n",
       "    <tr>\n",
       "      <th>5</th>\n",
       "      <td>Rajasthan Royals</td>\n",
       "      <td>50.31</td>\n",
       "    </tr>\n",
       "    <tr>\n",
       "      <th>0</th>\n",
       "      <td>Royal Challengers Bangalore</td>\n",
       "      <td>46.67</td>\n",
       "    </tr>\n",
       "    <tr>\n",
       "      <th>1</th>\n",
       "      <td>Kings XI Punjab</td>\n",
       "      <td>46.32</td>\n",
       "    </tr>\n",
       "    <tr>\n",
       "      <th>11</th>\n",
       "      <td>Gujarat Lions</td>\n",
       "      <td>43.33</td>\n",
       "    </tr>\n",
       "    <tr>\n",
       "      <th>8</th>\n",
       "      <td>Kochi Tuskers Kerala</td>\n",
       "      <td>42.86</td>\n",
       "    </tr>\n",
       "    <tr>\n",
       "      <th>2</th>\n",
       "      <td>Delhi Daredevils</td>\n",
       "      <td>41.61</td>\n",
       "    </tr>\n",
       "    <tr>\n",
       "      <th>6</th>\n",
       "      <td>Deccan Chargers</td>\n",
       "      <td>38.67</td>\n",
       "    </tr>\n",
       "    <tr>\n",
       "      <th>12</th>\n",
       "      <td>Rising Pune Supergiants</td>\n",
       "      <td>35.71</td>\n",
       "    </tr>\n",
       "    <tr>\n",
       "      <th>9</th>\n",
       "      <td>Pune Warriors</td>\n",
       "      <td>26.09</td>\n",
       "    </tr>\n",
       "  </tbody>\n",
       "</table>\n",
       "</div>"
      ],
      "text/plain": [
       "                           Team  Win Percentage\n",
       "13       Rising Pune Supergiant           62.50\n",
       "7           Chennai Super Kings           59.55\n",
       "3                Mumbai Indians           59.11\n",
       "14               Delhi Capitals           57.58\n",
       "10          Sunrisers Hyderabad           53.23\n",
       "4         Kolkata Knight Riders           51.56\n",
       "5              Rajasthan Royals           50.31\n",
       "0   Royal Challengers Bangalore           46.67\n",
       "1               Kings XI Punjab           46.32\n",
       "11                Gujarat Lions           43.33\n",
       "8          Kochi Tuskers Kerala           42.86\n",
       "2              Delhi Daredevils           41.61\n",
       "6               Deccan Chargers           38.67\n",
       "12      Rising Pune Supergiants           35.71\n",
       "9                 Pune Warriors           26.09"
      ]
     },
     "execution_count": 39,
     "metadata": {},
     "output_type": "execute_result"
    }
   ],
   "source": [
    "lst_wp = win_perc.items()\n",
    "df_win_perc = pd.DataFrame(lst_wp, columns = ['Team','Win Percentage'])\n",
    "df_win_perc.sort_values(by = 'Win Percentage', ascending = False)"
   ]
  },
  {
   "cell_type": "markdown",
   "id": "c5690c6e",
   "metadata": {},
   "source": [
    "# 12. Which is the biggest win in terms of run margin?"
   ]
  },
  {
   "cell_type": "code",
   "execution_count": 94,
   "id": "f2719c87",
   "metadata": {},
   "outputs": [
    {
     "data": {
      "text/html": [
       "<div>\n",
       "<style scoped>\n",
       "    .dataframe tbody tr th:only-of-type {\n",
       "        vertical-align: middle;\n",
       "    }\n",
       "\n",
       "    .dataframe tbody tr th {\n",
       "        vertical-align: top;\n",
       "    }\n",
       "\n",
       "    .dataframe thead th {\n",
       "        text-align: right;\n",
       "    }\n",
       "</style>\n",
       "<table border=\"1\" class=\"dataframe\">\n",
       "  <thead>\n",
       "    <tr style=\"text-align: right;\">\n",
       "      <th></th>\n",
       "      <th>id</th>\n",
       "      <th>city</th>\n",
       "      <th>date</th>\n",
       "      <th>player_of_match</th>\n",
       "      <th>venue</th>\n",
       "      <th>neutral_venue</th>\n",
       "      <th>team1</th>\n",
       "      <th>team2</th>\n",
       "      <th>toss_winner</th>\n",
       "      <th>toss_decision</th>\n",
       "      <th>winner</th>\n",
       "      <th>result</th>\n",
       "      <th>result_margin</th>\n",
       "      <th>eliminator</th>\n",
       "      <th>method</th>\n",
       "      <th>umpire1</th>\n",
       "      <th>umpire2</th>\n",
       "    </tr>\n",
       "  </thead>\n",
       "  <tbody>\n",
       "    <tr>\n",
       "      <th>620</th>\n",
       "      <td>1082635</td>\n",
       "      <td>Delhi</td>\n",
       "      <td>2017-05-06</td>\n",
       "      <td>LMP Simmons</td>\n",
       "      <td>Feroz Shah Kotla</td>\n",
       "      <td>0</td>\n",
       "      <td>Delhi Daredevils</td>\n",
       "      <td>Mumbai Indians</td>\n",
       "      <td>Delhi Daredevils</td>\n",
       "      <td>field</td>\n",
       "      <td>Mumbai Indians</td>\n",
       "      <td>runs</td>\n",
       "      <td>146.0</td>\n",
       "      <td>N</td>\n",
       "      <td>NaN</td>\n",
       "      <td>Nitin Menon</td>\n",
       "      <td>CK Nandan</td>\n",
       "    </tr>\n",
       "  </tbody>\n",
       "</table>\n",
       "</div>"
      ],
      "text/plain": [
       "          id   city        date player_of_match             venue  \\\n",
       "620  1082635  Delhi  2017-05-06     LMP Simmons  Feroz Shah Kotla   \n",
       "\n",
       "     neutral_venue             team1           team2       toss_winner  \\\n",
       "620              0  Delhi Daredevils  Mumbai Indians  Delhi Daredevils   \n",
       "\n",
       "    toss_decision          winner result  result_margin eliminator method  \\\n",
       "620         field  Mumbai Indians   runs          146.0          N    NaN   \n",
       "\n",
       "         umpire1    umpire2  \n",
       "620  Nitin Menon  CK Nandan  "
      ]
     },
     "execution_count": 94,
     "metadata": {},
     "output_type": "execute_result"
    }
   ],
   "source": [
    "df_m.sort_values(by = 'result_margin', ascending = False).head(1)"
   ]
  },
  {
   "cell_type": "markdown",
   "id": "6a41f720",
   "metadata": {},
   "source": [
    "# 13.  Which batsman has played the most nummber of Balls?"
   ]
  },
  {
   "cell_type": "code",
   "execution_count": 41,
   "id": "942e5f02",
   "metadata": {},
   "outputs": [],
   "source": [
    "batsman = {}\n",
    "for i in df_b.values:\n",
    "    if i[4] not in batsman:\n",
    "        batsman[i[4]] = 0"
   ]
  },
  {
   "cell_type": "code",
   "execution_count": 42,
   "id": "f73e85e1",
   "metadata": {},
   "outputs": [],
   "source": [
    "for i in batsman:\n",
    "    c = 0\n",
    "    for j in df_b.values:\n",
    "        if i == j[4]:\n",
    "            c +=1\n",
    "    batsman[i] = c"
   ]
  },
  {
   "cell_type": "code",
   "execution_count": 93,
   "id": "88db03f2",
   "metadata": {},
   "outputs": [
    {
     "data": {
      "text/html": [
       "<div>\n",
       "<style scoped>\n",
       "    .dataframe tbody tr th:only-of-type {\n",
       "        vertical-align: middle;\n",
       "    }\n",
       "\n",
       "    .dataframe tbody tr th {\n",
       "        vertical-align: top;\n",
       "    }\n",
       "\n",
       "    .dataframe thead th {\n",
       "        text-align: right;\n",
       "    }\n",
       "</style>\n",
       "<table border=\"1\" class=\"dataframe\">\n",
       "  <thead>\n",
       "    <tr style=\"text-align: right;\">\n",
       "      <th></th>\n",
       "      <th>Batsman</th>\n",
       "      <th>No.of balls played</th>\n",
       "    </tr>\n",
       "  </thead>\n",
       "  <tbody>\n",
       "    <tr>\n",
       "      <th>15</th>\n",
       "      <td>V Kohli</td>\n",
       "      <td>4609</td>\n",
       "    </tr>\n",
       "    <tr>\n",
       "      <th>31</th>\n",
       "      <td>S Dhawan</td>\n",
       "      <td>4208</td>\n",
       "    </tr>\n",
       "    <tr>\n",
       "      <th>61</th>\n",
       "      <td>RG Sharma</td>\n",
       "      <td>4088</td>\n",
       "    </tr>\n",
       "    <tr>\n",
       "      <th>19</th>\n",
       "      <td>SK Raina</td>\n",
       "      <td>4041</td>\n",
       "    </tr>\n",
       "    <tr>\n",
       "      <th>186</th>\n",
       "      <td>DA Warner</td>\n",
       "      <td>3819</td>\n",
       "    </tr>\n",
       "  </tbody>\n",
       "</table>\n",
       "</div>"
      ],
      "text/plain": [
       "       Batsman  No.of balls played\n",
       "15     V Kohli                4609\n",
       "31    S Dhawan                4208\n",
       "61   RG Sharma                4088\n",
       "19    SK Raina                4041\n",
       "186  DA Warner                3819"
      ]
     },
     "execution_count": 93,
     "metadata": {},
     "output_type": "execute_result"
    }
   ],
   "source": [
    "lst_b = batsman.items()\n",
    "df_mpd = pd.DataFrame(lst_b, columns = ['Batsman','No.of balls played'])\n",
    "df_mpd.sort_values(by = 'No.of balls played', ascending = False).head(5)"
   ]
  },
  {
   "cell_type": "markdown",
   "id": "7dfc8cff",
   "metadata": {},
   "source": [
    "# 14. Who are the leading run scorer of all time?"
   ]
  },
  {
   "cell_type": "code",
   "execution_count": 44,
   "id": "d34d4fd2",
   "metadata": {},
   "outputs": [],
   "source": [
    "bats_run = {}\n",
    "for i in batsman.keys():\n",
    "    c = 0\n",
    "    for j in df_b.values:\n",
    "        if i == j[4]:\n",
    "            c += j[9]\n",
    "    bats_run[i] = c"
   ]
  },
  {
   "cell_type": "code",
   "execution_count": 92,
   "id": "2f571103",
   "metadata": {},
   "outputs": [
    {
     "data": {
      "text/html": [
       "<div>\n",
       "<style scoped>\n",
       "    .dataframe tbody tr th:only-of-type {\n",
       "        vertical-align: middle;\n",
       "    }\n",
       "\n",
       "    .dataframe tbody tr th {\n",
       "        vertical-align: top;\n",
       "    }\n",
       "\n",
       "    .dataframe thead th {\n",
       "        text-align: right;\n",
       "    }\n",
       "</style>\n",
       "<table border=\"1\" class=\"dataframe\">\n",
       "  <thead>\n",
       "    <tr style=\"text-align: right;\">\n",
       "      <th></th>\n",
       "      <th>Batsman</th>\n",
       "      <th>No.of Runs</th>\n",
       "    </tr>\n",
       "  </thead>\n",
       "  <tbody>\n",
       "    <tr>\n",
       "      <th>15</th>\n",
       "      <td>V Kohli</td>\n",
       "      <td>6081</td>\n",
       "    </tr>\n",
       "    <tr>\n",
       "      <th>19</th>\n",
       "      <td>SK Raina</td>\n",
       "      <td>5604</td>\n",
       "    </tr>\n",
       "    <tr>\n",
       "      <th>186</th>\n",
       "      <td>DA Warner</td>\n",
       "      <td>5522</td>\n",
       "    </tr>\n",
       "    <tr>\n",
       "      <th>31</th>\n",
       "      <td>S Dhawan</td>\n",
       "      <td>5452</td>\n",
       "    </tr>\n",
       "    <tr>\n",
       "      <th>61</th>\n",
       "      <td>RG Sharma</td>\n",
       "      <td>5394</td>\n",
       "    </tr>\n",
       "  </tbody>\n",
       "</table>\n",
       "</div>"
      ],
      "text/plain": [
       "       Batsman  No.of Runs\n",
       "15     V Kohli        6081\n",
       "19    SK Raina        5604\n",
       "186  DA Warner        5522\n",
       "31    S Dhawan        5452\n",
       "61   RG Sharma        5394"
      ]
     },
     "execution_count": 92,
     "metadata": {},
     "output_type": "execute_result"
    }
   ],
   "source": [
    "lst_br = bats_run.items()\n",
    "df_br = pd.DataFrame(lst_br, columns= ['Batsman','No.of Runs'])\n",
    "df_br.sort_values(by = 'No.of Runs',ascending = False).head(5)"
   ]
  },
  {
   "cell_type": "markdown",
   "id": "e2497af4",
   "metadata": {},
   "source": [
    "# 15. which batsman has scored the most 4's?"
   ]
  },
  {
   "cell_type": "code",
   "execution_count": 46,
   "id": "5723e7a0",
   "metadata": {},
   "outputs": [],
   "source": [
    "bats_four = {}\n",
    "for i in batsman.keys():\n",
    "    c = 0\n",
    "    for j in df_b.values:\n",
    "        if (i == j[4] and j[7] == 4):\n",
    "            c += 1\n",
    "            bats_four[i] = c"
   ]
  },
  {
   "cell_type": "code",
   "execution_count": 95,
   "id": "0414e17d",
   "metadata": {},
   "outputs": [
    {
     "data": {
      "text/html": [
       "<div>\n",
       "<style scoped>\n",
       "    .dataframe tbody tr th:only-of-type {\n",
       "        vertical-align: middle;\n",
       "    }\n",
       "\n",
       "    .dataframe tbody tr th {\n",
       "        vertical-align: top;\n",
       "    }\n",
       "\n",
       "    .dataframe thead th {\n",
       "        text-align: right;\n",
       "    }\n",
       "</style>\n",
       "<table border=\"1\" class=\"dataframe\">\n",
       "  <thead>\n",
       "    <tr style=\"text-align: right;\">\n",
       "      <th></th>\n",
       "      <th>Batsman</th>\n",
       "      <th>No.of fours</th>\n",
       "    </tr>\n",
       "  </thead>\n",
       "  <tbody>\n",
       "    <tr>\n",
       "      <th>29</th>\n",
       "      <td>S Dhawan</td>\n",
       "      <td>591</td>\n",
       "    </tr>\n",
       "    <tr>\n",
       "      <th>160</th>\n",
       "      <td>DA Warner</td>\n",
       "      <td>510</td>\n",
       "    </tr>\n",
       "    <tr>\n",
       "      <th>14</th>\n",
       "      <td>V Kohli</td>\n",
       "      <td>504</td>\n",
       "    </tr>\n",
       "    <tr>\n",
       "      <th>18</th>\n",
       "      <td>SK Raina</td>\n",
       "      <td>493</td>\n",
       "    </tr>\n",
       "    <tr>\n",
       "      <th>30</th>\n",
       "      <td>G Gambhir</td>\n",
       "      <td>492</td>\n",
       "    </tr>\n",
       "  </tbody>\n",
       "</table>\n",
       "</div>"
      ],
      "text/plain": [
       "       Batsman  No.of fours\n",
       "29    S Dhawan          591\n",
       "160  DA Warner          510\n",
       "14     V Kohli          504\n",
       "18    SK Raina          493\n",
       "30   G Gambhir          492"
      ]
     },
     "execution_count": 95,
     "metadata": {},
     "output_type": "execute_result"
    }
   ],
   "source": [
    "lst_bf = bats_four.items()\n",
    "df_b = pd.DataFrame(lst_bf,columns = ['Batsman', 'No.of fours'])\n",
    "df_b.sort_values(by = 'No.of fours', ascending = False).head(5)"
   ]
  },
  {
   "cell_type": "markdown",
   "id": "6fd72d36",
   "metadata": {},
   "source": [
    "# 16. Which batsman has scored the most 6's?"
   ]
  },
  {
   "cell_type": "code",
   "execution_count": 98,
   "id": "0a78f350",
   "metadata": {},
   "outputs": [
    {
     "ename": "IndexError",
     "evalue": "index 4 is out of bounds for axis 0 with size 2",
     "output_type": "error",
     "traceback": [
      "\u001b[1;31m---------------------------------------------------------------------------\u001b[0m",
      "\u001b[1;31mIndexError\u001b[0m                                Traceback (most recent call last)",
      "Cell \u001b[1;32mIn[98], line 5\u001b[0m\n\u001b[0;32m      3\u001b[0m c \u001b[38;5;241m=\u001b[39m \u001b[38;5;241m0\u001b[39m\n\u001b[0;32m      4\u001b[0m \u001b[38;5;28;01mfor\u001b[39;00m j \u001b[38;5;129;01min\u001b[39;00m df_b\u001b[38;5;241m.\u001b[39mvalues:\n\u001b[1;32m----> 5\u001b[0m     \u001b[38;5;28;01mif\u001b[39;00m (i \u001b[38;5;241m==\u001b[39m j[\u001b[38;5;241m4\u001b[39m] \u001b[38;5;129;01mand\u001b[39;00m j[\u001b[38;5;241m7\u001b[39m] \u001b[38;5;241m==\u001b[39m \u001b[38;5;241m6\u001b[39m):\n\u001b[0;32m      6\u001b[0m         c \u001b[38;5;241m+\u001b[39m\u001b[38;5;241m=\u001b[39m \u001b[38;5;241m1\u001b[39m\n\u001b[0;32m      8\u001b[0m         bats_six[i] \u001b[38;5;241m=\u001b[39m c\n",
      "\u001b[1;31mIndexError\u001b[0m: index 4 is out of bounds for axis 0 with size 2"
     ]
    }
   ],
   "source": [
    "bats_six = {}\n",
    "for i in batsman.keys():\n",
    "    c = 0\n",
    "    for j in df_b.values:\n",
    "        if (i == j[4] and j[7] == 6):\n",
    "            c += 1\n",
    "            \n",
    "            bats_six[i] = c"
   ]
  },
  {
   "cell_type": "code",
   "execution_count": 97,
   "id": "c494c0eb",
   "metadata": {},
   "outputs": [
    {
     "data": {
      "text/html": [
       "<div>\n",
       "<style scoped>\n",
       "    .dataframe tbody tr th:only-of-type {\n",
       "        vertical-align: middle;\n",
       "    }\n",
       "\n",
       "    .dataframe tbody tr th {\n",
       "        vertical-align: top;\n",
       "    }\n",
       "\n",
       "    .dataframe thead th {\n",
       "        text-align: right;\n",
       "    }\n",
       "</style>\n",
       "<table border=\"1\" class=\"dataframe\">\n",
       "  <thead>\n",
       "    <tr style=\"text-align: right;\">\n",
       "      <th></th>\n",
       "      <th>Batsman</th>\n",
       "      <th>No.of Sixes</th>\n",
       "    </tr>\n",
       "  </thead>\n",
       "  <tbody>\n",
       "  </tbody>\n",
       "</table>\n",
       "</div>"
      ],
      "text/plain": [
       "Empty DataFrame\n",
       "Columns: [Batsman, No.of Sixes]\n",
       "Index: []"
      ]
     },
     "execution_count": 97,
     "metadata": {},
     "output_type": "execute_result"
    }
   ],
   "source": [
    "lst_bs = bats_six.items()\n",
    "df_bs = pd.DataFrame(lst_bs, columns = ['Batsman', 'No.of Sixes'])\n",
    "df_bs.sort_values(by = 'No.of Sixes',ascending = False)"
   ]
  },
  {
   "cell_type": "markdown",
   "id": "c377ec13",
   "metadata": {},
   "source": [
    "# 17. Who is the Wicket Taker?"
   ]
  },
  {
   "cell_type": "code",
   "execution_count": 74,
   "id": "e20c20c8",
   "metadata": {},
   "outputs": [],
   "source": [
    "bowler = {}\n",
    "for i in df_b.values:\n",
    "    if i[1] not in bowler:\n",
    "        bowler[i[1]] = 0"
   ]
  },
  {
   "cell_type": "code",
   "execution_count": 78,
   "id": "2db8600f",
   "metadata": {},
   "outputs": [],
   "source": [
    "for i in bowler.keys():\n",
    "    c =0 \n",
    "    for j in df_b.values:\n",
    "        if (i == j[1] and j[1]==1):\n",
    "            c += 1\n",
    "    bowler[i] = c"
   ]
  },
  {
   "cell_type": "code",
   "execution_count": 81,
   "id": "ff18f1d9",
   "metadata": {},
   "outputs": [
    {
     "data": {
      "text/html": [
       "<div>\n",
       "<style scoped>\n",
       "    .dataframe tbody tr th:only-of-type {\n",
       "        vertical-align: middle;\n",
       "    }\n",
       "\n",
       "    .dataframe tbody tr th {\n",
       "        vertical-align: top;\n",
       "    }\n",
       "\n",
       "    .dataframe thead th {\n",
       "        text-align: right;\n",
       "    }\n",
       "</style>\n",
       "<table border=\"1\" class=\"dataframe\">\n",
       "  <thead>\n",
       "    <tr style=\"text-align: right;\">\n",
       "      <th></th>\n",
       "      <th>Bowler</th>\n",
       "      <th>No of Wickets</th>\n",
       "    </tr>\n",
       "  </thead>\n",
       "  <tbody>\n",
       "    <tr>\n",
       "      <th>7</th>\n",
       "      <td>1</td>\n",
       "      <td>52</td>\n",
       "    </tr>\n",
       "    <tr>\n",
       "      <th>0</th>\n",
       "      <td>5</td>\n",
       "      <td>0</td>\n",
       "    </tr>\n",
       "    <tr>\n",
       "      <th>91</th>\n",
       "      <td>59</td>\n",
       "      <td>0</td>\n",
       "    </tr>\n",
       "    <tr>\n",
       "      <th>85</th>\n",
       "      <td>18</td>\n",
       "      <td>0</td>\n",
       "    </tr>\n",
       "    <tr>\n",
       "      <th>86</th>\n",
       "      <td>43</td>\n",
       "      <td>0</td>\n",
       "    </tr>\n",
       "  </tbody>\n",
       "</table>\n",
       "</div>"
      ],
      "text/plain": [
       "    Bowler  No of Wickets\n",
       "7        1             52\n",
       "0        5              0\n",
       "91      59              0\n",
       "85      18              0\n",
       "86      43              0"
      ]
     },
     "execution_count": 81,
     "metadata": {},
     "output_type": "execute_result"
    }
   ],
   "source": [
    "lst_bo = bowler.items()\n",
    "df_bo = pd.DataFrame(lst_bo, columns = ['Bowler','No of Wickets'])\n",
    "df_bo.sort_values(by = 'No of Wickets', ascending = False).head(5)"
   ]
  },
  {
   "cell_type": "markdown",
   "id": "27cc7bd4",
   "metadata": {},
   "source": [
    "# 18 . Which stadium has hosted the most number of matches?"
   ]
  },
  {
   "cell_type": "code",
   "execution_count": 83,
   "id": "7d4f11e8",
   "metadata": {},
   "outputs": [],
   "source": [
    "stadium = {}\n",
    "for i in df_m.values:\n",
    "    if i[4] not in stadium:\n",
    "        stadium[i[4]] = 0"
   ]
  },
  {
   "cell_type": "code",
   "execution_count": 84,
   "id": "a20f7ff5",
   "metadata": {},
   "outputs": [],
   "source": [
    "for i in stadium.keys():\n",
    "    c =0\n",
    "    for j in df_m.values:\n",
    "        if i == j[4]:\n",
    "            c += 1\n",
    "            \n",
    "            stadium[i] = c"
   ]
  },
  {
   "cell_type": "code",
   "execution_count": 85,
   "id": "3c0cf112",
   "metadata": {},
   "outputs": [
    {
     "data": {
      "text/html": [
       "<div>\n",
       "<style scoped>\n",
       "    .dataframe tbody tr th:only-of-type {\n",
       "        vertical-align: middle;\n",
       "    }\n",
       "\n",
       "    .dataframe tbody tr th {\n",
       "        vertical-align: top;\n",
       "    }\n",
       "\n",
       "    .dataframe thead th {\n",
       "        text-align: right;\n",
       "    }\n",
       "</style>\n",
       "<table border=\"1\" class=\"dataframe\">\n",
       "  <thead>\n",
       "    <tr style=\"text-align: right;\">\n",
       "      <th></th>\n",
       "      <th>Stadium</th>\n",
       "      <th>No of matches played</th>\n",
       "    </tr>\n",
       "  </thead>\n",
       "  <tbody>\n",
       "    <tr>\n",
       "      <th>4</th>\n",
       "      <td>Eden Gardens</td>\n",
       "      <td>77</td>\n",
       "    </tr>\n",
       "    <tr>\n",
       "      <th>2</th>\n",
       "      <td>Feroz Shah Kotla</td>\n",
       "      <td>74</td>\n",
       "    </tr>\n",
       "    <tr>\n",
       "      <th>3</th>\n",
       "      <td>Wankhede Stadium</td>\n",
       "      <td>73</td>\n",
       "    </tr>\n",
       "    <tr>\n",
       "      <th>0</th>\n",
       "      <td>M Chinnaswamy Stadium</td>\n",
       "      <td>65</td>\n",
       "    </tr>\n",
       "    <tr>\n",
       "      <th>6</th>\n",
       "      <td>Rajiv Gandhi International Stadium, Uppal</td>\n",
       "      <td>64</td>\n",
       "    </tr>\n",
       "  </tbody>\n",
       "</table>\n",
       "</div>"
      ],
      "text/plain": [
       "                                     Stadium  No of matches played\n",
       "4                               Eden Gardens                    77\n",
       "2                           Feroz Shah Kotla                    74\n",
       "3                           Wankhede Stadium                    73\n",
       "0                      M Chinnaswamy Stadium                    65\n",
       "6  Rajiv Gandhi International Stadium, Uppal                    64"
      ]
     },
     "execution_count": 85,
     "metadata": {},
     "output_type": "execute_result"
    }
   ],
   "source": [
    "lst_st = stadium.items()\n",
    "df_st = pd.DataFrame(lst_st, columns = ['Stadium','No of matches played'])\n",
    "df_st.sort_values(by = 'No of matches played',ascending = False).head()"
   ]
  },
  {
   "cell_type": "markdown",
   "id": "40b3c7fe",
   "metadata": {},
   "source": [
    "# 19 . What is the count of 4's hit in every season?"
   ]
  },
  {
   "cell_type": "code",
   "execution_count": 86,
   "id": "3917ff88",
   "metadata": {},
   "outputs": [],
   "source": [
    "m_s = {}\n",
    "for i in matches.keys():\n",
    "    c = 0\n",
    "    for j in df_b.values:\n",
    "        if (i == j[0] and j[7] == 4):\n",
    "            c +=1\n",
    "    m_s[i] = c"
   ]
  },
  {
   "cell_type": "code",
   "execution_count": 87,
   "id": "a77e8450",
   "metadata": {},
   "outputs": [],
   "source": [
    "seasons_4 = {}\n",
    "for i in seasons.keys():\n",
    "    seas = 0\n",
    "    for j in df_m.values:\n",
    "        for k in m_s.keys():\n",
    "            if (i in j[2] and j[0] == k):\n",
    "                seas += m_s[k]\n",
    "                \n",
    "                seasons_4[i] = seas"
   ]
  },
  {
   "cell_type": "code",
   "execution_count": 88,
   "id": "8d29ad24",
   "metadata": {},
   "outputs": [
    {
     "data": {
      "text/plain": [
       "{'2008': 0,\n",
       " '2009': 0,\n",
       " '2010': 0,\n",
       " '2011': 0,\n",
       " '2012': 0,\n",
       " '2013': 0,\n",
       " '2014': 0,\n",
       " '2015': 0,\n",
       " '2016': 0,\n",
       " '2017': 0,\n",
       " '2018': 0,\n",
       " '2019': 0,\n",
       " '2020': 0}"
      ]
     },
     "execution_count": 88,
     "metadata": {},
     "output_type": "execute_result"
    }
   ],
   "source": [
    "seasons_4"
   ]
  },
  {
   "cell_type": "markdown",
   "id": "2fc0d4f4",
   "metadata": {},
   "source": [
    "##  20. What is the count of 6's in every season?"
   ]
  },
  {
   "cell_type": "code",
   "execution_count": 89,
   "id": "2d0ef66c",
   "metadata": {},
   "outputs": [],
   "source": [
    "m_ss = {}\n",
    "for  i in matches.keys():\n",
    "    c = 0 \n",
    "    for j in df_b.values:\n",
    "        if (i == j[0] and j[7] == 6):\n",
    "            c += 1\n",
    "    m_ss[i] = c"
   ]
  },
  {
   "cell_type": "code",
   "execution_count": 90,
   "id": "902ee320",
   "metadata": {},
   "outputs": [],
   "source": [
    "season_6 = {}\n",
    "for i in seasons.keys():\n",
    "    for j in df_m.values:\n",
    "        for k in m_ss.keys():\n",
    "            if (i in j[2] and j[0] ==k):\n",
    "                seas += m_ss[k]\n",
    "        season_6[i] = seas"
   ]
  },
  {
   "cell_type": "code",
   "execution_count": 91,
   "id": "a5053997",
   "metadata": {},
   "outputs": [
    {
     "data": {
      "text/plain": [
       "{'2008': 0,\n",
       " '2009': 0,\n",
       " '2010': 0,\n",
       " '2011': 0,\n",
       " '2012': 0,\n",
       " '2013': 0,\n",
       " '2014': 0,\n",
       " '2015': 0,\n",
       " '2016': 0,\n",
       " '2017': 0,\n",
       " '2018': 0,\n",
       " '2019': 0,\n",
       " '2020': 0}"
      ]
     },
     "execution_count": 91,
     "metadata": {},
     "output_type": "execute_result"
    }
   ],
   "source": [
    "season_6"
   ]
  },
  {
   "cell_type": "code",
   "execution_count": null,
   "id": "c0aa5d7c",
   "metadata": {},
   "outputs": [],
   "source": []
  }
 ],
 "metadata": {
  "kernelspec": {
   "display_name": "Python 3 (ipykernel)",
   "language": "python",
   "name": "python3"
  },
  "language_info": {
   "codemirror_mode": {
    "name": "ipython",
    "version": 3
   },
   "file_extension": ".py",
   "mimetype": "text/x-python",
   "name": "python",
   "nbconvert_exporter": "python",
   "pygments_lexer": "ipython3",
   "version": "3.11.4"
  }
 },
 "nbformat": 4,
 "nbformat_minor": 5
}
